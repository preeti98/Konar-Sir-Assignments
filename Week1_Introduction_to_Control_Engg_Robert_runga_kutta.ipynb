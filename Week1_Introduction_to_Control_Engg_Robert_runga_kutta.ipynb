{
 "cells": [
  {
   "cell_type": "code",
   "execution_count": 1,
   "metadata": {},
   "outputs": [],
   "source": [
    "import numpy as np\n",
    "import math"
   ]
  },
  {
   "cell_type": "code",
   "execution_count": 2,
   "metadata": {},
   "outputs": [],
   "source": [
    "# Using Runge Kutta Method of order 4 to approximate y(1) if the following IVP:\n",
    "# (dy/dt) = 0.3 - 0.1y(t), 0 <= t <= 1\n",
    "# y(0) = 0\n",
    "\n",
    "# Using Runge Kutta Method of order 4 to approximate y(1) if the following IVP:\n",
    "# (dN1/dt) = aN1(1-N1/k), 0 <= t <= 50\n",
    "# N1(0) = 100 "
   ]
  },
  {
   "cell_type": "code",
   "execution_count": 41,
   "metadata": {},
   "outputs": [],
   "source": [
    "t0 = 0\n",
    "N1_0 = 100\n",
    "tf = 50\n",
    "h = 1 # h = (xf-x0)/(n-1)\n",
    "n = 50\n",
    "a = 1.2\n",
    "k = 1000"
   ]
  },
  {
   "cell_type": "code",
   "execution_count": 42,
   "metadata": {},
   "outputs": [],
   "source": [
    "# eqn used to describe (dy/dt) = f(x,y) \n",
    "# Robert May\n",
    "def f(t,N1):\n",
    "    m=1.2*N1*(1-(N1/1000))\n",
    "    return m"
   ]
  },
  {
   "cell_type": "code",
   "execution_count": 53,
   "metadata": {},
   "outputs": [],
   "source": [
    "# initialize x and y\n",
    "t = np.linspace(t0, tf, n)\n",
    "N1 = np.zeros([n])\n"
   ]
  },
  {
   "cell_type": "code",
   "execution_count": 54,
   "metadata": {},
   "outputs": [],
   "source": [
    "# initial values\n",
    "N1[0] = N1_0\n",
    "w = N1_0"
   ]
  },
  {
   "cell_type": "code",
   "execution_count": 55,
   "metadata": {},
   "outputs": [
    {
     "name": "stdout",
     "output_type": "stream",
     "text": [
      "w(1) = 268.62275888880754\n",
      "w(2) = 548.8884909291783\n",
      "w(3) = 801.0356243999046\n",
      "w(4) = 928.8856952002692\n",
      "w(5) = 976.4959871071331\n",
      "w(6) = 992.426186864605\n",
      "w(7) = 997.5792559851579\n",
      "w(8) = 999.228294629304\n",
      "w(9) = 999.7541935493163\n",
      "w(10) = 999.9217255446554\n",
      "w(11) = 999.9750764318047\n",
      "w(12) = 999.9920642363682\n",
      "w(13) = 999.9974732427704\n",
      "w(14) = 999.9991954794752\n",
      "w(15) = 999.9997438405612\n",
      "w(16) = 999.9999184388241\n",
      "w(17) = 999.9999740309205\n",
      "w(18) = 999.999991731445\n",
      "w(19) = 999.999997367292\n",
      "w(20) = 999.9999991617458\n",
      "w(21) = 999.9999997330999\n",
      "w(22) = 999.999999915019\n",
      "w(23) = 999.999999972942\n",
      "w(24) = 999.9999999913847\n",
      "w(25) = 999.9999999972569\n",
      "w(26) = 999.9999999991267\n",
      "w(27) = 999.9999999997219\n",
      "w(28) = 999.9999999999114\n",
      "w(29) = 999.9999999999718\n",
      "w(30) = 999.999999999991\n",
      "w(31) = 999.9999999999972\n",
      "w(32) = 999.9999999999991\n",
      "w(33) = 999.9999999999997\n",
      "w(34) = 999.9999999999999\n",
      "w(35) = 1000.0\n",
      "w(36) = 1000.0\n",
      "w(37) = 1000.0\n",
      "w(38) = 1000.0\n",
      "w(39) = 1000.0\n",
      "w(40) = 1000.0\n",
      "w(41) = 1000.0\n",
      "w(42) = 1000.0\n",
      "w(43) = 1000.0\n",
      "w(44) = 1000.0\n",
      "w(45) = 1000.0\n",
      "w(46) = 1000.0\n",
      "w(47) = 1000.0\n",
      "w(48) = 1000.0\n",
      "w(49) = 1000.0\n"
     ]
    }
   ],
   "source": [
    "# populate y using Runge Kutta of order 4\n",
    "p = []\n",
    "for i in range(1, n):\n",
    "    k1 = h*f(0, w)\n",
    "    k2 = h*f(0, w + k1/2)\n",
    "    k3 = h*f(0, w + k2/2)\n",
    "    k4 = h*f(0, w + k3)\n",
    "    \n",
    "    w = w + (k1 + 2*k2 + 2*k3 + k4)/6\n",
    "    N1[i] = w\n",
    "    p.append(w)\n",
    "    print(\"w({}) = {}\".format(i, w))\n",
    "p.append(1000)\n"
   ]
  },
  {
   "cell_type": "code",
   "execution_count": 58,
   "metadata": {},
   "outputs": [
    {
     "data": {
      "text/plain": [
       "[<matplotlib.lines.Line2D at 0x7f1c06f9fcf8>]"
      ]
     },
     "execution_count": 58,
     "metadata": {},
     "output_type": "execute_result"
    },
    {
     "data": {
      "image/png": "[encoded data removed]",
      "text/plain": [
       "<Figure size 432x288 with 1 Axes>"
      ]
     },
     "metadata": {},
     "output_type": "display_data"
    }
   ],
   "source": [
    "%matplotlib inline\n",
    "import matplotlib.pyplot as plt\n",
    "#plt.plot(w,t,label = 'Small Fish')\n",
    "#plt.show()\n",
    "#w.plot()\n",
    "plt.xlabel('Time')\n",
    "plt.ylabel('Population of small fish')\n",
    "\n",
    "plt.plot(t,p, linewidth=2.0)\n"
   ]
  },
  {
   "cell_type": "code",
   "execution_count": 59,
   "metadata": {},
   "outputs": [
    {
     "data": {
      "text/plain": [
       "<Figure size 432x288 with 0 Axes>"
      ]
     },
     "metadata": {},
     "output_type": "display_data"
    }
   ],
   "source": [
    "plt.savefig('small_fish.png')\n"
   ]
  },
  {
   "cell_type": "code",
   "execution_count": 48,
   "metadata": {},
   "outputs": [
    {
     "data": {
      "text/plain": [
       "array([ 0.        ,  1.02040816,  2.04081633,  3.06122449,  4.08163265,\n",
       "        5.10204082,  6.12244898,  7.14285714,  8.16326531,  9.18367347,\n",
       "       10.20408163, 11.2244898 , 12.24489796, 13.26530612, 14.28571429,\n",
       "       15.30612245, 16.32653061, 17.34693878, 18.36734694, 19.3877551 ,\n",
       "       20.40816327, 21.42857143, 22.44897959, 23.46938776, 24.48979592,\n",
       "       25.51020408, 26.53061224, 27.55102041, 28.57142857, 29.59183673,\n",
       "       30.6122449 , 31.63265306, 32.65306122, 33.67346939, 34.69387755,\n",
       "       35.71428571, 36.73469388, 37.75510204, 38.7755102 , 39.79591837,\n",
       "       40.81632653, 41.83673469, 42.85714286, 43.87755102, 44.89795918,\n",
       "       45.91836735, 46.93877551, 47.95918367, 48.97959184, 50.        ])"
      ]
     },
     "execution_count": 48,
     "metadata": {},
     "output_type": "execute_result"
    }
   ],
   "source": [
    "t"
   ]
  },
  {
   "cell_type": "code",
   "execution_count": 49,
   "metadata": {},
   "outputs": [],
   "source": [
    "p= np.asarray(p)"
   ]
  },
  {
   "cell_type": "code",
   "execution_count": 50,
   "metadata": {},
   "outputs": [
    {
     "data": {
      "text/plain": [
       "50"
      ]
     },
     "execution_count": 50,
     "metadata": {},
     "output_type": "execute_result"
    }
   ],
   "source": [
    "len(t)"
   ]
  },
  {
   "cell_type": "code",
   "execution_count": 51,
   "metadata": {},
   "outputs": [
    {
     "data": {
      "text/plain": [
       "49"
      ]
     },
     "execution_count": 51,
     "metadata": {},
     "output_type": "execute_result"
    }
   ],
   "source": [
    "len(p)"
   ]
  },
  {
   "cell_type": "code",
   "execution_count": 60,
   "metadata": {},
   "outputs": [],
   "source": [
    "# Using Runge Kutta Method of order 4 to approximate y(1) if the following IVP:\n",
    "# (dN1/dt) = aN1(1-N1/k) -bN1N2, 0 <= t <= 50\n",
    "# N1(0) = 100 \n",
    "# N2(0) = 20"
   ]
  },
  {
   "cell_type": "code",
   "execution_count": 81,
   "metadata": {},
   "outputs": [],
   "source": [
    "t0 = 0\n",
    "N1_0 = 100\n",
    "N2_0 = 20\n",
    "tf = 50\n",
    "h = 1 # h = (xf-x0)/(n-1)\n",
    "n = 50\n",
    "a = 1.2\n",
    "b = 0.001\n",
    "c = 0.001\n",
    "d = 0.3\n",
    "k = 1000"
   ]
  },
  {
   "cell_type": "code",
   "execution_count": 82,
   "metadata": {},
   "outputs": [],
   "source": [
    "# eqn used to describe (dy/dt) = f(x,y) \n",
    "#Lisbeth- Gurray\n",
    "def f(t,N1,N2):\n",
    "    m=1.2*N1*(1-(N1/1000)) - 0.001*N1*N2 #for N1\n",
    "    return m\n",
    "\n",
    "def g(t,N1,N2):\n",
    "    l = 0.001*N1*N2 - 0.3*N2 #for N2\n",
    "    return l"
   ]
  },
  {
   "cell_type": "code",
   "execution_count": 83,
   "metadata": {},
   "outputs": [],
   "source": [
    "t = np.linspace(t0, tf, n)\n",
    "N1 = np.zeros([n])\n",
    "N2 = np.zeros([n])"
   ]
  },
  {
   "cell_type": "code",
   "execution_count": 89,
   "metadata": {},
   "outputs": [],
   "source": [
    "# initial values\n",
    "N1[0] = N1_0\n",
    "w = N1_0\n",
    "N2[0] = N2_0\n",
    "w_1 = N2_0"
   ]
  },
  {
   "cell_type": "code",
   "execution_count": 90,
   "metadata": {},
   "outputs": [
    {
     "name": "stdout",
     "output_type": "stream",
     "text": [
      "w(1) = 264.2575054196759\n",
      "w_1(1) = 17.590702733786525\n",
      "w(2) = 535.9154930494174\n",
      "w_1(2) = 19.31820311640164\n",
      "w(3) = 780.8780287942351\n",
      "w_1(3) = 27.538443124320576\n",
      "w(4) = 900.8675742568898\n",
      "w_1(4) = 46.747653421700804\n",
      "w(5) = 931.4083699863708\n",
      "w_1(5) = 84.8050580106212\n",
      "w(6) = 913.2988592170626\n",
      "w_1(6) = 154.3167308655371\n",
      "w(7) = 858.4939723572205\n",
      "w_1(7) = 271.0921757859279\n",
      "w(8) = 766.7728075484607\n",
      "w_1(8) = 444.2694696914175\n",
      "w(9) = 643.6246295049066\n",
      "w_1(9) = 657.0336726651307\n",
      "w(10) = 510.17616593951607\n",
      "w_1(10) = 858.4226682239753\n",
      "w(11) = 393.905640248714\n",
      "w_1(11) = 993.2077830661406\n",
      "w(12) = 310.3890603571886\n",
      "w_1(12) = 1042.3420744600676\n",
      "w(13) = 259.746149227258\n",
      "w_1(13) = 1024.410116414945\n",
      "w(14) = 235.26465097725844\n",
      "w_1(14) = 970.4545047162629\n",
      "w(15) = 230.12005766546085\n",
      "w_1(15) = 906.280801143251\n",
      "w(16) = 238.98534212677416\n",
      "w_1(16) = 848.2890169288482\n",
      "w(17) = 257.21319846784047\n",
      "w_1(17) = 805.1803467176701\n",
      "w(18) = 279.8363121456956\n",
      "w_1(18) = 780.3389546061901\n",
      "w(19) = 301.52287399013153\n",
      "w_1(19) = 773.4160751111904\n",
      "w(20) = 317.6725433925146\n",
      "w_1(20) = 781.2621904634352\n",
      "w(21) = 325.8068992746212\n",
      "w_1(21) = 798.7578459138327\n",
      "w(22) = 326.1011707395905\n",
      "w_1(22) = 819.9417103196007\n",
      "w(23) = 320.72302650730416\n",
      "w_1(23) = 839.3894051803267\n",
      "w(24) = 312.58921197666416\n",
      "w_1(24) = 853.3926260407796\n",
      "w(25) = 304.30709482305383\n",
      "w_1(25) = 860.4742927910268\n",
      "w(26) = 297.6426497011815\n",
      "w_1(26) = 861.1420501326943\n",
      "w(27) = 293.44448821209176\n",
      "w_1(27) = 857.164074927542\n",
      "w(28) = 291.80836481480935\n",
      "w_1(28) = 850.7607208503393\n",
      "w(29) = 292.3132065997184\n",
      "w_1(29) = 843.9763568296536\n",
      "w(30) = 294.2512986450345\n",
      "w_1(30) = 838.314968608428\n",
      "w(31) = 296.831466898959\n",
      "w_1(31) = 834.609832549429\n",
      "w(32) = 299.34689795946656\n",
      "w_1(32) = 833.0610212652748\n",
      "w(33) = 301.29321537013067\n",
      "w_1(33) = 833.3772474571512\n",
      "w(34) = 302.4217799271009\n",
      "w_1(34) = 834.9692347639535\n",
      "w(35) = 302.72592650534585\n",
      "w_1(35) = 837.149409596501\n",
      "w(36) = 302.3763051005013\n",
      "w_1(36) = 839.2998286248682\n",
      "w(37) = 301.6334471854755\n",
      "w_1(37) = 840.9820287849257\n",
      "w(38) = 300.76534318649544\n",
      "w_1(38) = 841.9794362703522\n",
      "w(39) = 299.9881932382125\n",
      "w_1(39) = 842.2804059227731\n",
      "w(40) = 299.4364664486908\n",
      "w_1(40) = 842.0219931007875\n",
      "w(41) = 299.15923152594144\n",
      "w_1(41) = 841.4182467246296\n",
      "w(42) = 299.1350500217258\n",
      "w_1(42) = 840.6932546872815\n",
      "w(43) = 299.29667387569134\n",
      "w_1(43) = 840.031780563006\n",
      "w(44) = 299.5578077570039\n",
      "w_1(44) = 839.5524833049332\n",
      "w(45) = 299.8361424728423\n",
      "w_1(45) = 839.3024785708565\n",
      "w(46) = 300.06915124112066\n",
      "w_1(46) = 839.2680963108807\n",
      "w(47) = 300.2214370667692\n",
      "w_1(47) = 839.395006056661\n",
      "w(48) = 300.28441418323507\n",
      "w_1(48) = 839.6109793373139\n",
      "w(49) = 300.2704899645368\n",
      "w_1(49) = 839.8459054849925\n"
     ]
    }
   ],
   "source": [
    "p = []\n",
    "p.append(N1[0])\n",
    "q = []\n",
    "q.append(N2[0])\n",
    "for i in range(1, n):\n",
    "    k1 = h*f(0, w, w_1)\n",
    "    k1_1 = h*g(0, w, w_1)\n",
    "    k2 = h*f(0, w + k1/2, w_1 + k1_1/2)\n",
    "    k2_1 = h*g(0, w + k1/2, w_1 + k1_1/2) \n",
    "    k3 = h*f(0, w + k2/2, w_1+k2_1/2)\n",
    "    k3_1 = h*g(0, w + k2/2, w_1+k2_1/2)\n",
    "    k4 = h*f(0, w + k3, w_1 + k3_1/2)\n",
    "    k4_1 = h*g(0, w + k3, w_1 + k3_1/2)\n",
    "    \n",
    "    w = w + (k1 + 2*k2 + 2*k3 + k4)/6\n",
    "    w_1 = w_1 + (k1_1 + 2*k2_1 + 2*k3_1 + k4_1)/6\n",
    "    N1[i] = w\n",
    "    N2[i] = w_1\n",
    "    p.append(w)\n",
    "    q.append(w_1)\n",
    "    print(\"w({}) = {}\".format(i, w))\n",
    "    print(\"w_1({}) = {}\".format(i, w_1))\n",
    "\n"
   ]
  },
  {
   "cell_type": "code",
   "execution_count": 91,
   "metadata": {},
   "outputs": [
    {
     "data": {
      "text/plain": [
       "[<matplotlib.lines.Line2D at 0x7f1c072a6b00>]"
      ]
     },
     "execution_count": 91,
     "metadata": {},
     "output_type": "execute_result"
    },
    {
     "data": {
      "image/png": "[encoded data removed]",
      "text/plain": [
       "<Figure size 432x288 with 1 Axes>"
      ]
     },
     "metadata": {},
     "output_type": "display_data"
    }
   ],
   "source": [
    "%matplotlib inline\n",
    "import matplotlib.pyplot as plt\n",
    "#plt.plot(w,t,label = 'Small Fish')\n",
    "#plt.show()\n",
    "#w.plot()\n",
    "plt.xlabel('Time')\n",
    "plt.ylabel('Population of small fish in blue and larger fish in orange ')\n",
    "\n",
    "plt.plot(t,p, linewidth=2.0)\n",
    "plt.plot(t,q, linewidth=2.0)"
   ]
  },
  {
   "cell_type": "code",
   "execution_count": 92,
   "metadata": {},
   "outputs": [
    {
     "data": {
      "text/plain": [
       "<Figure size 432x288 with 0 Axes>"
      ]
     },
     "metadata": {},
     "output_type": "display_data"
    }
   ],
   "source": [
    "plt.savefig('all_fish.png')\n"
   ]
  },
  {
   "cell_type": "code",
   "execution_count": 93,
   "metadata": {},
   "outputs": [
    {
     "data": {
      "text/plain": [
       "[100.0,\n",
       " 264.2575054196759,\n",
       " 535.9154930494174,\n",
       " 780.8780287942351,\n",
       " 900.8675742568898,\n",
       " 931.4083699863708,\n",
       " 913.2988592170626,\n",
       " 858.4939723572205,\n",
       " 766.7728075484607,\n",
       " 643.6246295049066,\n",
       " 510.17616593951607,\n",
       " 393.905640248714,\n",
       " 310.3890603571886,\n",
       " 259.746149227258,\n",
       " 235.26465097725844,\n",
       " 230.12005766546085,\n",
       " 238.98534212677416,\n",
       " 257.21319846784047,\n",
       " 279.8363121456956,\n",
       " 301.52287399013153,\n",
       " 317.6725433925146,\n",
       " 325.8068992746212,\n",
       " 326.1011707395905,\n",
       " 320.72302650730416,\n",
       " 312.58921197666416,\n",
       " 304.30709482305383,\n",
       " 297.6426497011815,\n",
       " 293.44448821209176,\n",
       " 291.80836481480935,\n",
       " 292.3132065997184,\n",
       " 294.2512986450345,\n",
       " 296.831466898959,\n",
       " 299.34689795946656,\n",
       " 301.29321537013067,\n",
       " 302.4217799271009,\n",
       " 302.72592650534585,\n",
       " 302.3763051005013,\n",
       " 301.6334471854755,\n",
       " 300.76534318649544,\n",
       " 299.9881932382125,\n",
       " 299.4364664486908,\n",
       " 299.15923152594144,\n",
       " 299.1350500217258,\n",
       " 299.29667387569134,\n",
       " 299.5578077570039,\n",
       " 299.8361424728423,\n",
       " 300.06915124112066,\n",
       " 300.2214370667692,\n",
       " 300.28441418323507,\n",
       " 300.2704899645368]"
      ]
     },
     "execution_count": 93,
     "metadata": {},
     "output_type": "execute_result"
    }
   ],
   "source": [
    "p"
   ]
  }
 ],
 "metadata": {
  "kernelspec": {
   "display_name": "Python 3",
   "language": "python",
   "name": "python3"
  },
  "language_info": {
   "codemirror_mode": {
    "name": "ipython",
    "version": 3
   },
   "file_extension": ".py",
   "mimetype": "text/x-python",
   "name": "python",
   "nbconvert_exporter": "python",
   "pygments_lexer": "ipython3",
   "version": "3.6.5"
  }
 },
 "nbformat": 4,
 "nbformat_minor": 2
}
